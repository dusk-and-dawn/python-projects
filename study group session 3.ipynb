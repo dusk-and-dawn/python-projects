{
 "cells": [
  {
   "cell_type": "code",
   "execution_count": null,
   "id": "076c7039",
   "metadata": {},
   "outputs": [],
   "source": [
    "'''\n",
    "Write a python code for a bingo game: Start off with setting a secret number\n",
    "between 1 and 20. The player has 5 chances to guess what that secret\n",
    "number is. So, at the prompt the player makes a guess. If the guess is lower\n",
    "(higher) than the secret number, the program returns a hint: ‘higher’\n",
    "(‘lower’) and lets the player make another guess. If the player makes a\n",
    "correct guess at the prompt, the program returns ‘bingo!’ and exits. If the\n",
    "player does not manage a correct guess within the allowed 5 chances, the\n",
    "program returns ‘Oops, game over!’ and tells the player the secret number.\n",
    "'''"
   ]
  },
  {
   "cell_type": "code",
   "execution_count": null,
   "id": "ae70f634",
   "metadata": {},
   "outputs": [],
   "source": [
    "import random \n",
    "\n",
    "secret_num = 5\n",
    "#answer_num = int(input('guess a number:'))\n",
    "count = 0\n",
    "\n",
    "def my_bingo(answer_num):\n",
    "    for i in range(4):\n",
    "        answer_num = int(input('guess a number:'))\n",
    "        if answer_num < secret_num: \n",
    "            print('higher!')\n",
    "        elif answer_num > secret_num:\n",
    "            print('lower!')\n",
    "        else:\n",
    "            print('bingo!!!')\n",
    "\n",
    "my_bingo(3)"
   ]
  },
  {
   "cell_type": "code",
   "execution_count": null,
   "id": "e0ca3c2d",
   "metadata": {},
   "outputs": [],
   "source": [
    "\n",
    "import random\n",
    "secret_num = random.randint(1, 20)\n",
    "def my_bingo():\n",
    "    for i in range(5):\n",
    "        answer_num = int(input('guess a number: '))\n",
    "        if i != 4:\n",
    "            if answer_num < secret_num:\n",
    "                print('higher!')\n",
    "            elif answer_num > secret_num:\n",
    "                print('lower!')\n",
    "            else:\n",
    "                print('bingo!!!')\n",
    "                break\n",
    "        else:\n",
    "            if answer_num == secret_num:\n",
    "                print('bingo!!!')\n",
    "            else:\n",
    "                print(\"game over') \n",
    "my_bingo()\n"
   ]
  },
  {
   "cell_type": "code",
   "execution_count": null,
   "id": "43137186",
   "metadata": {},
   "outputs": [],
   "source": []
  }
 ],
 "metadata": {
  "kernelspec": {
   "display_name": "Python 3 (ipykernel)",
   "language": "python",
   "name": "python3"
  },
  "language_info": {
   "codemirror_mode": {
    "name": "ipython",
    "version": 3
   },
   "file_extension": ".py",
   "mimetype": "text/x-python",
   "name": "python",
   "nbconvert_exporter": "python",
   "pygments_lexer": "ipython3",
   "version": "3.10.9"
  }
 },
 "nbformat": 4,
 "nbformat_minor": 5
}
