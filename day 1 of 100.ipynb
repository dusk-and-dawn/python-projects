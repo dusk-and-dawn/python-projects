{
 "cells": [
  {
   "cell_type": "markdown",
   "id": "efc03f3d",
   "metadata": {},
   "source": [
    "David's 100 days of coding \n",
    "\n",
    "I have wanted to do this forever and it is finally time. I will code every day for 100 days. This is the promise to myself and a very famous internet challenge. To keep me accountable I will post the progress every day on linkedin. Maybe someone finds it as cool as I do, in that case please do enjoy my juvenile code! If not - well this is for myself anyways. "
   ]
  },
  {
   "cell_type": "code",
   "execution_count": 3,
   "id": "1fa0d2e8",
   "metadata": {},
   "outputs": [
    {
     "name": "stdout",
     "output_type": "stream",
     "text": [
      "How many layers should I produce for the Pascalian triangle?:5\n",
      "\n",
      "    1 \n",
      "   1 1 \n",
      "  1 2 1 \n",
      " 1 3 3 1 \n",
      "1 4 6 4 1 "
     ]
    }
   ],
   "source": [
    "'''\n",
    "Day 1\n",
    "Finishing the print statement to create a clean Pascalian triangle\n",
    "''' \n",
    "\n",
    "inc_num = int(input('How many layers should I produce for the Pascalian triangle?:'))\n",
    "final_list = []\n",
    "for x in range(inc_num):\n",
    "    placeholder = []\n",
    "    for i in range(x+1):\n",
    "        if i == 0 or i == x: \n",
    "            placeholder.append(1)\n",
    "        else: \n",
    "            placeholder.append(final_list[x-1][i-1] + final_list[x-1][i])\n",
    "    final_list.append(placeholder)\n",
    "counter = 0\n",
    "if inc_num <= 5:\n",
    "    for entry in final_list: \n",
    "        print()\n",
    "        counter += 1\n",
    "        print((inc_num-counter)*' ', end='')\n",
    "        for x in entry: \n",
    "            print(str(x), end=' ')\n",
    "else: \n",
    "    for entry in final_list:\n",
    "        if entry >= 10 and entry <= 99: \n",
    "            print()\n",
    "            counter += 1 \n",
    "            print()\n",
    "        else:\n",
    "            print()\n",
    "            counter += 1\n",
    "            print((inc_num-counter)*' ', end='')\n",
    "        for x in entry: \n",
    "            print(str(x), end=' ')"
   ]
  },
  {
   "cell_type": "code",
   "execution_count": 4,
   "id": "f688df86",
   "metadata": {},
   "outputs": [
    {
     "name": "stdout",
     "output_type": "stream",
     "text": [
      "How many layers should I produce for the Pascalian triangle?:12\n",
      "\n",
      "           1 \n",
      "          1 1 \n",
      "         1 2 1 \n",
      "        1 3 3 1 \n",
      "       1 4 6 4 1 \n",
      "      1 5 10  10  5 1 \n",
      "     1 6 15  20  15  6 1 \n",
      "    1 7 21  35  35  21  7 1 \n",
      "   1 8 28  56  70  56  28  8 1 \n",
      "  1 9 36  84  126   126   84  36  9 1 \n",
      " 1 10  45  120   210   252   210   120   45  10  1 \n",
      "1 11  55  165   330   462   462   330   165   55  11  1 "
     ]
    }
   ],
   "source": [
    "inc_num = int(input('How many layers should I produce for the Pascalian triangle?:'))\n",
    "final_list = []\n",
    "for x in range(inc_num):\n",
    "    placeholder = []\n",
    "    for i in range(x+1):\n",
    "        if i == 0 or i == x: \n",
    "            placeholder.append(1)\n",
    "        else: \n",
    "            placeholder.append(final_list[x-1][i-1] + final_list[x-1][i])\n",
    "    final_list.append(placeholder)\n",
    "counter = 0\n",
    "if inc_num <= 5:\n",
    "    for entry in final_list: \n",
    "        print()\n",
    "        counter += 1\n",
    "        print((inc_num-counter)*' ', end='')\n",
    "        for x in entry: \n",
    "            print(str(x), end=' ')\n",
    "else: \n",
    "    for entry in final_list: \n",
    "        print()\n",
    "        counter+= 1 \n",
    "        print((inc_num-counter)*' ', end='')\n",
    "        for x in entry: \n",
    "            if x< 10: \n",
    "                print(x, end=' ')\n",
    "            elif x >= 10 and x < 100:\n",
    "                print(str(x), end='  ')\n",
    "            elif x >= 100 and x <1000: \n",
    "                print(x, end='   ')\n",
    "            elif x >= 1000 and x <10000: \n",
    "                print(x, end='    ')\n",
    "            else: \n",
    "                print(x, end='bro, chill')"
   ]
  },
  {
   "cell_type": "code",
   "execution_count": 13,
   "id": "3752204a",
   "metadata": {},
   "outputs": [
    {
     "name": "stdout",
     "output_type": "stream",
     "text": [
      "How many layers should I produce for the Pascalian triangle?:10\n",
      "\n",
      "         1  \n",
      "        1  1  \n",
      "       1  2  1  \n",
      "      1  3  3  1  \n",
      "     1  4  6  4  1  \n",
      "    1  5  10  10 10  5 5  1  \n",
      "   1  6  15  20 20  15 15  6 6  1  \n",
      "  1  7  21  35 35  35 35  21 21  7 7  1  \n",
      " 1  8  28  56 56  70 70  56 56  28 28  8 8  1  \n",
      "1  9  36  84 84  126 126  126 126  84 84  36 36  9 9  1  "
     ]
    }
   ],
   "source": [
    "inc_num = int(input('How many layers should I produce for the Pascalian triangle?:'))\n",
    "final_list = []\n",
    "for x in range(inc_num):\n",
    "    placeholder = []\n",
    "    for i in range(x+1):\n",
    "        if i == 0 or i == x: \n",
    "            placeholder.append(1)\n",
    "        else: \n",
    "            placeholder.append(final_list[x-1][i-1] + final_list[x-1][i])\n",
    "    final_list.append(placeholder)\n",
    "counter = 0 \n",
    "two_digits = 0\n",
    "for entry in final_list: \n",
    "    print()\n",
    "    counter += 1\n",
    "    print((inc_num-counter)*' ', end='')\n",
    "    for x in entry: \n",
    "        if two_digits == 1:\n",
    "            print(x, end= ' ')\n",
    "        if len(str(x)) > 1: \n",
    "            two_digits = 1\n",
    "        else: \n",
    "            two_digits = 0\n",
    "            pass\n",
    "        print(x, end='  ')"
   ]
  },
  {
   "cell_type": "code",
   "execution_count": 8,
   "id": "b694c561",
   "metadata": {},
   "outputs": [
    {
     "name": "stdout",
     "output_type": "stream",
     "text": [
      "2\n"
     ]
    }
   ],
   "source": [
    "print(len(str(10)))\n"
   ]
  },
  {
   "cell_type": "code",
   "execution_count": null,
   "id": "0c894475",
   "metadata": {},
   "outputs": [],
   "source": []
  }
 ],
 "metadata": {
  "kernelspec": {
   "display_name": "Python 3 (ipykernel)",
   "language": "python",
   "name": "python3"
  },
  "language_info": {
   "codemirror_mode": {
    "name": "ipython",
    "version": 3
   },
   "file_extension": ".py",
   "mimetype": "text/x-python",
   "name": "python",
   "nbconvert_exporter": "python",
   "pygments_lexer": "ipython3",
   "version": "3.10.9"
  }
 },
 "nbformat": 4,
 "nbformat_minor": 5
}
