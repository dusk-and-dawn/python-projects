{
 "cells": [
  {
   "cell_type": "markdown",
   "id": "18965584",
   "metadata": {},
   "source": [
    "# My Hello World Page"
   ]
  },
  {
   "cell_type": "markdown",
   "id": "c349c55f",
   "metadata": {},
   "source": [
    "Welcome to my **Hello World** page. To learn more about Python, click [here] (http://www.python.org)."
   ]
  },
  {
   "cell_type": "code",
   "execution_count": 2,
   "id": "4cf8d87c",
   "metadata": {},
   "outputs": [
    {
     "name": "stdout",
     "output_type": "stream",
     "text": [
      "Hello World!\n"
     ]
    }
   ],
   "source": [
    "print('Hello World!')"
   ]
  },
  {
   "cell_type": "code",
   "execution_count": 7,
   "id": "9054f604",
   "metadata": {},
   "outputs": [
    {
     "name": "stdout",
     "output_type": "stream",
     "text": [
      "iu\n"
     ]
    }
   ],
   "source": [
    "my_uni = 'iu'\n",
    "print(my_uni)"
   ]
  },
  {
   "cell_type": "code",
   "execution_count": 8,
   "id": "589fdfa2",
   "metadata": {},
   "outputs": [],
   "source": [
    "my_uni = 'iu'"
   ]
  },
  {
   "cell_type": "code",
   "execution_count": 9,
   "id": "ae94e40f",
   "metadata": {},
   "outputs": [
    {
     "data": {
      "text/plain": [
       "1"
      ]
     },
     "execution_count": 9,
     "metadata": {},
     "output_type": "execute_result"
    }
   ],
   "source": [
    "my_uni.find('u')"
   ]
  },
  {
   "cell_type": "code",
   "execution_count": 10,
   "id": "29d2dba7",
   "metadata": {},
   "outputs": [],
   "source": [
    "my_uni += 'iu'"
   ]
  },
  {
   "cell_type": "code",
   "execution_count": 11,
   "id": "72fdfa90",
   "metadata": {},
   "outputs": [
    {
     "name": "stdout",
     "output_type": "stream",
     "text": [
      "iuiu\n"
     ]
    }
   ],
   "source": [
    "print(my_uni)"
   ]
  },
  {
   "cell_type": "code",
   "execution_count": 12,
   "id": "b5b0d299",
   "metadata": {},
   "outputs": [
    {
     "data": {
      "text/plain": [
       "2"
      ]
     },
     "execution_count": 12,
     "metadata": {},
     "output_type": "execute_result"
    }
   ],
   "source": [
    "my_uni.count('u')"
   ]
  },
  {
   "cell_type": "code",
   "execution_count": 13,
   "id": "c18c05d2",
   "metadata": {},
   "outputs": [],
   "source": [
    "my_score = 13"
   ]
  },
  {
   "cell_type": "code",
   "execution_count": 14,
   "id": "39de1874",
   "metadata": {},
   "outputs": [
    {
     "name": "stdout",
     "output_type": "stream",
     "text": [
      "iuiu\n"
     ]
    }
   ],
   "source": [
    "print(my_uni.format(my_score))"
   ]
  },
  {
   "cell_type": "code",
   "execution_count": 15,
   "id": "366e8dd4",
   "metadata": {},
   "outputs": [
    {
     "ename": "TypeError",
     "evalue": "can only concatenate str (not \"dict\") to str",
     "output_type": "error",
     "traceback": [
      "\u001b[0;31m---------------------------------------------------------------------------\u001b[0m",
      "\u001b[0;31mTypeError\u001b[0m                                 Traceback (most recent call last)",
      "Cell \u001b[0;32mIn[15], line 1\u001b[0m\n\u001b[0;32m----> 1\u001b[0m my_uni \u001b[38;5;241m+\u001b[39m\u001b[38;5;241m=\u001b[39m {}\n",
      "\u001b[0;31mTypeError\u001b[0m: can only concatenate str (not \"dict\") to str"
     ]
    }
   ],
   "source": [
    "my_uni += {}"
   ]
  },
  {
   "cell_type": "code",
   "execution_count": 16,
   "id": "cf130e06",
   "metadata": {},
   "outputs": [
    {
     "name": "stdout",
     "output_type": "stream",
     "text": [
      "iuiu 13\n"
     ]
    }
   ],
   "source": [
    "my_uni = 'iuiu {}'\n",
    "print(my_uni.format(my_score))"
   ]
  },
  {
   "cell_type": "code",
   "execution_count": 17,
   "id": "709e53cd",
   "metadata": {},
   "outputs": [
    {
     "name": "stdout",
     "output_type": "stream",
     "text": [
      "u \n"
     ]
    }
   ],
   "source": [
    "print(my_uni[3:5])"
   ]
  },
  {
   "cell_type": "code",
   "execution_count": 18,
   "id": "c86b7ea3",
   "metadata": {},
   "outputs": [
    {
     "name": "stdout",
     "output_type": "stream",
     "text": [
      "7\n"
     ]
    }
   ],
   "source": [
    "print(len(my_uni))"
   ]
  },
  {
   "cell_type": "code",
   "execution_count": 19,
   "id": "7e515bc2",
   "metadata": {},
   "outputs": [
    {
     "name": "stdout",
     "output_type": "stream",
     "text": [
      "}\n"
     ]
    }
   ],
   "source": [
    "print(my_uni[6:])"
   ]
  },
  {
   "cell_type": "code",
   "execution_count": 20,
   "id": "a2c86f4e",
   "metadata": {},
   "outputs": [
    {
     "name": "stdout",
     "output_type": "stream",
     "text": [
      "iuiu {}\n"
     ]
    }
   ],
   "source": [
    "print(my_uni)"
   ]
  },
  {
   "cell_type": "code",
   "execution_count": 21,
   "id": "9e2e7be1",
   "metadata": {},
   "outputs": [
    {
     "name": "stdout",
     "output_type": "stream",
     "text": [
      "13\n"
     ]
    }
   ],
   "source": [
    "print(my_uni.format(my_score)[5:])"
   ]
  },
  {
   "cell_type": "code",
   "execution_count": 22,
   "id": "9af450c5",
   "metadata": {},
   "outputs": [
    {
     "name": "stdout",
     "output_type": "stream",
     "text": [
      "tell me a number: 5\n"
     ]
    },
    {
     "data": {
      "text/plain": [
       "'5'"
      ]
     },
     "execution_count": 22,
     "metadata": {},
     "output_type": "execute_result"
    }
   ],
   "source": [
    "input('tell me a number: ')"
   ]
  },
  {
   "cell_type": "code",
   "execution_count": null,
   "id": "85b22e05",
   "metadata": {},
   "outputs": [],
   "source": [
    "a = int(input('tell me the first number: '))\n",
    "b = int(input('tell me the second number: '))\n",
    "c = (a**2 + b**2)**(1/2)\n",
    "print('the length of c is: 'c)"
   ]
  },
  {
   "cell_type": "code",
   "execution_count": 1,
   "id": "f5165c18",
   "metadata": {},
   "outputs": [
    {
     "name": "stdout",
     "output_type": "stream",
     "text": [
      "tell me the first number: 2\n",
      "tell me the second number: 4\n",
      "the length of c is: 4.47213595499958\n"
     ]
    }
   ],
   "source": [
    "a = int(input('tell me the first number: '))\n",
    "b = int(input('tell me the second number: '))\n",
    "c = (a**2 + b**2)**(1/2)\n",
    "print('the length of c is: ' + str(c))"
   ]
  },
  {
   "cell_type": "code",
   "execution_count": null,
   "id": "367aafdd",
   "metadata": {},
   "outputs": [],
   "source": [
    "side1=int(input('Enter side1: '))\n",
    "side2=int(input('Enter side2: '))\n",
    "side3=(side1**2+ side2**2)**(1/2)\n",
    "print('The lenghth of side c is' + str(side3))"
   ]
  },
  {
   "cell_type": "markdown",
   "id": "e9440f91",
   "metadata": {},
   "source": [
    "side1=int(input('Enter side1: '))\n",
    "side2=int(input('Enter side2: '))\n",
    "side3=(side1**2+ side2**2)**(1/2)\n",
    "print('The lenghth of side c is' + str(side3))"
   ]
  },
  {
   "cell_type": "code",
   "execution_count": 3,
   "id": "d81f9f89",
   "metadata": {},
   "outputs": [
    {
     "name": "stdout",
     "output_type": "stream",
     "text": [
      "None\n"
     ]
    }
   ],
   "source": [
    "random_List = ['string1', 'string2', 'aletter']\n",
    "sorted_list = random_List.sort()\n",
    "print(sorted_list)"
   ]
  },
  {
   "cell_type": "code",
   "execution_count": null,
   "id": "4941a545",
   "metadata": {},
   "outputs": [],
   "source": [
    "random_List.sort()"
   ]
  },
  {
   "cell_type": "code",
   "execution_count": 1,
   "id": "20f53dab",
   "metadata": {},
   "outputs": [
    {
     "ename": "NameError",
     "evalue": "name 'random_List' is not defined",
     "output_type": "error",
     "traceback": [
      "\u001b[0;31m---------------------------------------------------------------------------\u001b[0m",
      "\u001b[0;31mNameError\u001b[0m                                 Traceback (most recent call last)",
      "Cell \u001b[0;32mIn[1], line 1\u001b[0m\n\u001b[0;32m----> 1\u001b[0m \u001b[38;5;28mprint\u001b[39m(\u001b[43mrandom_List\u001b[49m\u001b[38;5;241m.\u001b[39msort())\n",
      "\u001b[0;31mNameError\u001b[0m: name 'random_List' is not defined"
     ]
    }
   ],
   "source": [
    "print(random_List.sort())"
   ]
  },
  {
   "cell_type": "code",
   "execution_count": 7,
   "id": "9498b83d",
   "metadata": {},
   "outputs": [
    {
     "name": "stdout",
     "output_type": "stream",
     "text": [
      "['String1', 'aletter', 'string2']\n"
     ]
    }
   ],
   "source": [
    "random_List = ['String1', 'string2', 'aletter']\n",
    "random_List.sort()\n",
    "print(random_List)"
   ]
  },
  {
   "cell_type": "code",
   "execution_count": 12,
   "id": "fd2bdf64",
   "metadata": {},
   "outputs": [
    {
     "name": "stdout",
     "output_type": "stream",
     "text": [
      "{'wife': 'the best', 'dog': 'love as well', 'comp. science': 'passion'}\n"
     ]
    }
   ],
   "source": [
    "my_epic_dictionary = {'wife':'love', 'dog':'love as well', 'comp. science':'passion', 'wife':'the best'}\n",
    "print(my_epic_dictionary)"
   ]
  },
  {
   "cell_type": "code",
   "execution_count": 9,
   "id": "d44fdc23",
   "metadata": {},
   "outputs": [
    {
     "data": {
      "text/plain": [
       "'love as well'"
      ]
     },
     "execution_count": 9,
     "metadata": {},
     "output_type": "execute_result"
    }
   ],
   "source": [
    "my_epic_dictionary.get('dog')"
   ]
  },
  {
   "cell_type": "code",
   "execution_count": 10,
   "id": "5b22e6d0",
   "metadata": {},
   "outputs": [],
   "source": [
    "my_epic_dictionary['comp. science']='full of wonders'"
   ]
  },
  {
   "cell_type": "code",
   "execution_count": 11,
   "id": "a4564c32",
   "metadata": {},
   "outputs": [
    {
     "data": {
      "text/plain": [
       "'full of wonders'"
      ]
     },
     "execution_count": 11,
     "metadata": {},
     "output_type": "execute_result"
    }
   ],
   "source": [
    "my_epic_dictionary.get('comp. science')"
   ]
  },
  {
   "cell_type": "code",
   "execution_count": null,
   "id": "5088cd5c",
   "metadata": {},
   "outputs": [],
   "source": []
  }
 ],
 "metadata": {
  "kernelspec": {
   "display_name": "Python 3 (ipykernel)",
   "language": "python",
   "name": "python3"
  },
  "language_info": {
   "codemirror_mode": {
    "name": "ipython",
    "version": 3
   },
   "file_extension": ".py",
   "mimetype": "text/x-python",
   "name": "python",
   "nbconvert_exporter": "python",
   "pygments_lexer": "ipython3",
   "version": "3.10.9"
  }
 },
 "nbformat": 4,
 "nbformat_minor": 5
}
