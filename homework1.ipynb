{
 "cells": [
  {
   "cell_type": "markdown",
   "id": "110bfee7",
   "metadata": {},
   "source": [
    "# My Python Homework"
   ]
  },
  {
   "cell_type": "code",
   "execution_count": 10,
   "id": "d822717e",
   "metadata": {},
   "outputs": [
    {
     "name": "stdout",
     "output_type": "stream",
     "text": [
      "Please do give me a two digit number to reverse 74\n",
      "47 is your number reversed\n"
     ]
    }
   ],
   "source": [
    "# reverse a given number \n",
    "number = int(input('Please do give me a two digit number to reverse '))\n",
    "reverse_number = str(number)[::-1]\n",
    "print(f'{reverse_number} is your number reversed')"
   ]
  },
  {
   "cell_type": "code",
   "execution_count": 15,
   "id": "c318a77d",
   "metadata": {},
   "outputs": [
    {
     "name": "stdout",
     "output_type": "stream",
     "text": [
      "Please tell me a number: 4\n",
      "May I have another number: 5\n",
      "1024 is 4 to the power of 5 and 625 is 5 to the power of 4\n"
     ]
    }
   ],
   "source": [
    "# get two numbers and power the digits by one another\n",
    "a = int(input('Please tell me a number: '))\n",
    "b = int(input('May I have another number: '))\n",
    "result = a**b \n",
    "result2 = b**a\n",
    "print(f'{result} is {a} to the power of {b} and {result2} is {b} to the power of {a}')"
   ]
  },
  {
   "cell_type": "code",
   "execution_count": 43,
   "id": "ffa4ded7",
   "metadata": {},
   "outputs": [
    {
     "name": "stdout",
     "output_type": "stream",
     "text": [
      "please. do give me a number: 245\n",
      "may I have another number please: 452\n",
      "15.652475842498529\n",
      "21.2602916254693\n"
     ]
    }
   ],
   "source": [
    "# get two numbers from the user and calculate square root \n",
    "import math \n",
    "number1 = int(input('please. do give me a number: '))\n",
    "number2 = int(input('may I have another number please: '))\n",
    "\n",
    "print(math.sqrt(number1))\n",
    "print(math.sqrt(number2))"
   ]
  },
  {
   "cell_type": "code",
   "execution_count": 27,
   "id": "70b6cb57",
   "metadata": {},
   "outputs": [
    {
     "name": "stdout",
     "output_type": "stream",
     "text": [
      " john is a clever boy "
     ]
    }
   ],
   "source": [
    "# a hidden text is in the string how do we extract it\n",
    "text = '345dfthiyob revelc a si nhoj hue93845d'\n",
    "reduced_text = text[8:-9]\n",
    "separated_text = reduced_text.split(' ')\n",
    "#for x in separated_text:\n",
    " #   x.reversed()\n",
    "  #  print(x)\n",
    "\n",
    "#print(reduced_text)\n",
    "for word in reversed(separated_text):\n",
    "    print(word[::-1], end=' ')"
   ]
  },
  {
   "cell_type": "code",
   "execution_count": 42,
   "id": "ab925f56",
   "metadata": {},
   "outputs": [
    {
     "name": "stdout",
     "output_type": "stream",
     "text": [
      "please give me a two digit number: ghjjhgj\n",
      "Please, I asked for two digits only!\n"
     ]
    }
   ],
   "source": [
    "# Enter a two digit number and calculate the sum of the digits 45 --> 4=5 --> 9\n",
    "user_number = input('please give me a two digit number: ')\n",
    "x = 0\n",
    "for number in user_number:\n",
    "    if len(user_number) != 2:\n",
    "        print('Please, I asked for two digits only!')\n",
    "        break\n",
    "    elif number.isdigit():\n",
    "        x += int(number)\n",
    "    else: \n",
    "        print('hey! that was not a number friendo!')\n",
    "if x != 0: \n",
    "    print(x)"
   ]
  },
  {
   "cell_type": "code",
   "execution_count": null,
   "id": "aea3f890",
   "metadata": {},
   "outputs": [],
   "source": [
    "# extra practice for fun \n",
    "\"\"\"\n",
    " Write a Python program to print the following string in a specific format (see the output).\n",
    "Sample String : \"Twinkle, twinkle, little star, How I wonder what you are! Up above the world so high, Like a diamond in the sky. Twinkle, twinkle, little star, How I wonder what you are\"\n",
    "Output :\n",
    "\n",
    "Twinkle, twinkle, little star,\n",
    "\tHow I wonder what you are! \n",
    "\t\tUp above the world so high,   \t\t\n",
    "\t\tLike a diamond in the sky. \n",
    "Twinkle, twinkle, little star, \n",
    "\tHow I wonder what you are\n",
    "\"\"\"\n",
    "user_string = input('Be so kind as to give me a string would you?:')\n",
    "\n",
    "first_part = ''\n",
    "\n",
    "for x in user_string:\n",
    "    if x.isupper(): \n",
    "        x.index()\n",
    "    \n"
   ]
  },
  {
   "cell_type": "code",
   "execution_count": null,
   "id": "6c1dab9d",
   "metadata": {},
   "outputs": [],
   "source": []
  }
 ],
 "metadata": {
  "kernelspec": {
   "display_name": "Python 3 (ipykernel)",
   "language": "python",
   "name": "python3"
  },
  "language_info": {
   "codemirror_mode": {
    "name": "ipython",
    "version": 3
   },
   "file_extension": ".py",
   "mimetype": "text/x-python",
   "name": "python",
   "nbconvert_exporter": "python",
   "pygments_lexer": "ipython3",
   "version": "3.10.9"
  }
 },
 "nbformat": 4,
 "nbformat_minor": 5
}
