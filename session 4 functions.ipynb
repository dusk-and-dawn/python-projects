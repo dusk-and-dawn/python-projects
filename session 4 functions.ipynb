{
 "cells": [
  {
   "cell_type": "code",
   "execution_count": 3,
   "id": "d3ebd270",
   "metadata": {},
   "outputs": [
    {
     "ename": "TypeError",
     "evalue": "'int' object is not subscriptable",
     "output_type": "error",
     "traceback": [
      "\u001b[0;31m---------------------------------------------------------------------------\u001b[0m",
      "\u001b[0;31mTypeError\u001b[0m                                 Traceback (most recent call last)",
      "Cell \u001b[0;32mIn[3], line 18\u001b[0m\n\u001b[1;32m     15\u001b[0m         final_list \u001b[38;5;241m=\u001b[39m placeholder\n\u001b[1;32m     16\u001b[0m     \u001b[38;5;28mprint\u001b[39m(final_list)\n\u001b[0;32m---> 18\u001b[0m \u001b[43mfunc_to_play_with\u001b[49m\u001b[43m(\u001b[49m\u001b[38;5;241;43m7\u001b[39;49m\u001b[43m)\u001b[49m\n",
      "Cell \u001b[0;32mIn[3], line 14\u001b[0m, in \u001b[0;36mfunc_to_play_with\u001b[0;34m(rows)\u001b[0m\n\u001b[1;32m     12\u001b[0m             placeholder\u001b[38;5;241m.\u001b[39mappend(\u001b[38;5;241m1\u001b[39m)\n\u001b[1;32m     13\u001b[0m         \u001b[38;5;28;01melse\u001b[39;00m:\n\u001b[0;32m---> 14\u001b[0m             placeholder\u001b[38;5;241m.\u001b[39mappend(\u001b[43mfinal_list\u001b[49m\u001b[43m[\u001b[49m\u001b[43mi\u001b[49m\u001b[38;5;241;43m-\u001b[39;49m\u001b[38;5;241;43m1\u001b[39;49m\u001b[43m]\u001b[49m\u001b[43m[\u001b[49m\u001b[43mj\u001b[49m\u001b[38;5;241;43m-\u001b[39;49m\u001b[38;5;241;43m1\u001b[39;49m\u001b[43m]\u001b[49m\u001b[38;5;241m+\u001b[39mfinal_list[i\u001b[38;5;241m-\u001b[39m\u001b[38;5;241m1\u001b[39m][j])\n\u001b[1;32m     15\u001b[0m     final_list \u001b[38;5;241m=\u001b[39m placeholder\n\u001b[1;32m     16\u001b[0m \u001b[38;5;28mprint\u001b[39m(final_list)\n",
      "\u001b[0;31mTypeError\u001b[0m: 'int' object is not subscriptable"
     ]
    }
   ],
   "source": [
    "def func_to_play_with(rows):\n",
    "    '''\n",
    "    rows : takes an int that determines how many rows are calculated\n",
    "    \n",
    "    returns : list of lists including the values of the pascalian triangle for as many rows as asked for \n",
    "    '''\n",
    "    final_list = []\n",
    "    for i in range(rows):\n",
    "        placeholder = []\n",
    "        for j in range(i+1):\n",
    "            if j == 0 or j==i:\n",
    "                placeholder.append(1)\n",
    "            else:\n",
    "                placeholder.append(final_list[i-1][j-1]+final_list[i-1][j])\n",
    "        final_list = placeholder\n",
    "    print(final_list)\n",
    "    \n",
    "func_to_play_with(7)"
   ]
  },
  {
   "cell_type": "code",
   "execution_count": null,
   "id": "c9197c1d",
   "metadata": {},
   "outputs": [],
   "source": [
    "#pass by assignment"
   ]
  }
 ],
 "metadata": {
  "kernelspec": {
   "display_name": "Python 3 (ipykernel)",
   "language": "python",
   "name": "python3"
  },
  "language_info": {
   "codemirror_mode": {
    "name": "ipython",
    "version": 3
   },
   "file_extension": ".py",
   "mimetype": "text/x-python",
   "name": "python",
   "nbconvert_exporter": "python",
   "pygments_lexer": "ipython3",
   "version": "3.10.9"
  }
 },
 "nbformat": 4,
 "nbformat_minor": 5
}
