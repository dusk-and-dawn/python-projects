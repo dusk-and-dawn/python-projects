{
 "cells": [
  {
   "cell_type": "code",
   "execution_count": 41,
   "id": "2a1fa081",
   "metadata": {},
   "outputs": [
    {
     "ename": "ValueError",
     "evalue": "invalid literal for int() with base 10: '*1'",
     "output_type": "error",
     "traceback": [
      "\u001b[0;31m---------------------------------------------------------------------------\u001b[0m",
      "\u001b[0;31mValueError\u001b[0m                                Traceback (most recent call last)",
      "Cell \u001b[0;32mIn[41], line 31\u001b[0m\n\u001b[1;32m     27\u001b[0m     \u001b[38;5;66;03m#result = operator_dict.get(operator)(list_of_nums)\u001b[39;00m\n\u001b[1;32m     28\u001b[0m     \u001b[38;5;28;01mreturn\u001b[39;00m result\n\u001b[0;32m---> 31\u001b[0m \u001b[38;5;28mprint\u001b[39m(\u001b[43mcalc\u001b[49m\u001b[43m(\u001b[49m\u001b[38;5;124;43m'\u001b[39;49m\u001b[38;5;124;43m**1 2 3 4 5 6 7 8 9\u001b[39;49m\u001b[38;5;124;43m'\u001b[39;49m\u001b[43m)\u001b[49m)\n",
      "Cell \u001b[0;32mIn[41], line 16\u001b[0m, in \u001b[0;36mcalc\u001b[0;34m(arg)\u001b[0m\n\u001b[1;32m     14\u001b[0m count \u001b[38;5;241m=\u001b[39m \u001b[38;5;241m0\u001b[39m\n\u001b[1;32m     15\u001b[0m \u001b[38;5;28;01mfor\u001b[39;00m entry \u001b[38;5;129;01min\u001b[39;00m list_of_nums: \n\u001b[0;32m---> 16\u001b[0m     list_of_nums[count]\u001b[38;5;241m=\u001b[39m\u001b[38;5;28;43mint\u001b[39;49m\u001b[43m(\u001b[49m\u001b[43mentry\u001b[49m\u001b[43m)\u001b[49m\n\u001b[1;32m     17\u001b[0m     count\u001b[38;5;241m+\u001b[39m\u001b[38;5;241m=\u001b[39m\u001b[38;5;241m1\u001b[39m\n\u001b[1;32m     18\u001b[0m count2 \u001b[38;5;241m=\u001b[39m \u001b[38;5;241m0\u001b[39m\n",
      "\u001b[0;31mValueError\u001b[0m: invalid literal for int() with base 10: '*1'"
     ]
    }
   ],
   "source": [
    "'''\n",
    "make a calculator function that takes in a string of numbers and an operator in prefix format and do the correct \n",
    "calculation, returning the result\n",
    "don't use an if statement to decide which operation to do.\n",
    "'''\n",
    "import operator\n",
    "\n",
    "operator_dict = {'+':operator.add, '-':operator.sub,'*':operator.mul, '**':operator.pow, '%':operator.mod, '/':operator.truediv}\n",
    "\n",
    "def calc(arg='+1 2 3 4 5'):\n",
    "    operator = arg[0]\n",
    "    list_of_nums = arg[1:].split()\n",
    "    length_lom = len(list_of_nums)\n",
    "    count = 0\n",
    "    for entry in list_of_nums: \n",
    "        list_of_nums[count]=int(entry)\n",
    "        count+=1\n",
    "    count2 = 0\n",
    "    temp_result = []\n",
    "    for entry in list_of_nums: \n",
    "        if count2 == 0: \n",
    "            temp_result.append(entry)\n",
    "            count2 += 1\n",
    "        else: \n",
    "            result = operator_dict.get(operator)(entry, temp_result[0])\n",
    "            temp_result[0] = result\n",
    "    #result = operator_dict.get(operator)(list_of_nums)\n",
    "    return result\n",
    "    \n",
    "\n",
    "print(calc('**1 2 3 4 5 6 7 8 9'))\n"
   ]
  },
  {
   "cell_type": "code",
   "execution_count": 57,
   "id": "4e967e48",
   "metadata": {},
   "outputs": [
    {
     "name": "stdout",
     "output_type": "stream",
     "text": [
      "1\n"
     ]
    }
   ],
   "source": [
    "import operator\n",
    "\n",
    "operator_dict = {'+':operator.add, '-':operator.sub,'*':operator.mul, '**':operator.pow, '%':operator.mod, '/':operator.truediv}\n",
    "\n",
    "def calc(arg='+1 2 3 4 5'):\n",
    "    try:\n",
    "        operator = arg[0]\n",
    "        list_of_nums = arg[1:].split()\n",
    "        length_lom = len(list_of_nums)\n",
    "        count = 0\n",
    "        for entry in list_of_nums: \n",
    "            list_of_nums[count]=int(entry)\n",
    "            count+=1\n",
    "        count2 = 0\n",
    "        temp_result = []\n",
    "        for entry in list_of_nums: \n",
    "            if count2 == 0: \n",
    "                temp_result.append(entry)\n",
    "                count2 += 1\n",
    "            else: \n",
    "                result = operator_dict.get(operator)(temp_result[0], entry)\n",
    "                temp_result[0] = result\n",
    "        return result\n",
    "    except ZeroDivisionError: \n",
    "        operator = arg[0]\n",
    "        list_of_nums = arg[1:3].split()\n",
    "        length_lom = len(list_of_nums)\n",
    "        count = 0\n",
    "        for entry in list_of_nums: \n",
    "            list_of_nums[count]=int(entry)\n",
    "            count+=1\n",
    "        count2 = 0\n",
    "        temp_result = []\n",
    "        for entry in list_of_nums: \n",
    "            if count2 == 0: \n",
    "                temp_result.append(entry)\n",
    "                count2 += 1\n",
    "            else: \n",
    "                result = operator_dict.get(operator)(temp_result[0], entry)\n",
    "                temp_result[0] = result\n",
    "        return result\n",
    "        print('good sir, that calculation requires a division by zero and we don\\'t really do that in these parts.')\n",
    "    except ValueError: \n",
    "        operator = arg[0:2]\n",
    "        list_of_nums = arg[2:].split()\n",
    "        length_lom = len(list_of_nums)\n",
    "        count = 0\n",
    "        for entry in list_of_nums: \n",
    "            list_of_nums[count]=int(entry)\n",
    "            count+=1\n",
    "        count2 = 0\n",
    "        temp_result = []\n",
    "        for entry in list_of_nums: \n",
    "            if count2 == 0: \n",
    "                temp_result.append(entry)\n",
    "                count2 += 1\n",
    "            else: \n",
    "                result = operator_dict.get(operator)(temp_result[0], entry)\n",
    "                temp_result[0] = result\n",
    "        return result\n",
    "\n",
    "\n",
    "print(calc('% 5 2'))\n"
   ]
  },
  {
   "cell_type": "code",
   "execution_count": 55,
   "id": "3c180bb0",
   "metadata": {},
   "outputs": [
    {
     "name": "stdout",
     "output_type": "stream",
     "text": [
      "1\n"
     ]
    }
   ],
   "source": [
    "print(5%2)"
   ]
  },
  {
   "cell_type": "code",
   "execution_count": 58,
   "id": "00c45559",
   "metadata": {},
   "outputs": [
    {
     "name": "stdout",
     "output_type": "stream",
     "text": [
      "0\n"
     ]
    }
   ],
   "source": [
    "x = 1 \n",
    "y = 2 \n",
    "print(x & y)"
   ]
  },
  {
   "cell_type": "code",
   "execution_count": 60,
   "id": "75578d19",
   "metadata": {},
   "outputs": [
    {
     "name": "stdout",
     "output_type": "stream",
     "text": [
      "[0.5 0.8 1.1 1.4 1.7 2.  2.3 2.6 2.9 3.2 3.5 3.8 4.1 4.4 4.7 5.  5.3 5.6\n",
      " 5.9 6.2 6.5 6.8 7.1 7.4 7.7 8.  8.3 8.6 8.9 9.2 9.5 9.8]\n"
     ]
    }
   ],
   "source": [
    "import numpy as np \n",
    "\n",
    "p = np.arange(0.5,10,0.3)\n",
    "print(p)"
   ]
  },
  {
   "cell_type": "code",
   "execution_count": 55,
   "id": "e58d4f8e",
   "metadata": {},
   "outputs": [
    {
     "name": "stdout",
     "output_type": "stream",
     "text": [
      "18/7/2023\n",
      "Tuesday, July, 2023\n",
      "7/18/2023\n",
      "Jul, Tue, 23\n"
     ]
    }
   ],
   "source": [
    "'''\n",
    "How to get current date and time in Python?\n",
    "\n",
    "Use the date class of the datetime module to accomplish this task.\n",
    "\n",
    "Print the current date in different formats:\n",
    "\n",
    "d1 = dd/mm/YY\n",
    "d2 = Textual Day, Month, Year\n",
    "d3 = mm/dd/y\n",
    "d4 = Month abbreviation, day and year\n",
    "\n",
    "\n",
    "Exercise 2:\n",
    "\n",
    "Write a Python program to check the leap year.\n",
    "\n",
    "\n",
    "Exercise 3:\n",
    "\n",
    "Substract a week from a given date in Python. Alternative, substract a week from the current date in Python.\n",
    "\n",
    "Exercise 4:\n",
    "\n",
    "Find the day of the week of a given date.\n",
    "'''\n",
    "import datetime as dt\n",
    "from datetime import date\n",
    "import calendar as lion \n",
    "\n",
    "#1 differing formats\n",
    "\n",
    "current_date = dt.date.today() \n",
    "print(current_date.day, current_date.month, current_date.year, sep='/')\n",
    "print(current_date.strftime('%A, %B, %Y'))\n",
    "print(current_date.month, current_date.day, current_date.year, sep='/')\n",
    "print(current_date.strftime('%b, %a, %y'))\n",
    "\n",
    "    \n"
   ]
  },
  {
   "cell_type": "code",
   "execution_count": 56,
   "id": "f0ae2061",
   "metadata": {},
   "outputs": [
    {
     "name": "stdout",
     "output_type": "stream",
     "text": [
      "Please give me a year and I promise to check whether it is a leap year: 2020\n",
      "This year, 2020, is indeed a leap year.\n"
     ]
    }
   ],
   "source": [
    "# check leap year \n",
    "\n",
    "x = int(input('Please give me a year and I promise to check whether it is a leap year: '))\n",
    "\n",
    "if lion.isleap(x): \n",
    "    print(f'This year, {x}, is indeed a leap year.') \n",
    "else:\n",
    "    print(f'{x} is not a leap year.')\n",
    "    \n"
   ]
  },
  {
   "cell_type": "code",
   "execution_count": 44,
   "id": "f5562f7f",
   "metadata": {},
   "outputs": [
    {
     "name": "stdout",
     "output_type": "stream",
     "text": [
      "1699138800.0\n",
      "1698534000.0\n",
      "2023-10-29 01:00:00\n"
     ]
    }
   ],
   "source": [
    "# substract a week from a given date\n",
    "\n",
    "date = dt.date(2023, 11, 5)\n",
    "unix_date = time.mktime(date.timetuple())\n",
    "new_date = unix_date - 604800.0\n",
    "final_output = dt.datetime.fromtimestamp(new_date)\n",
    "print(unix_date)\n",
    "print(new_date)\n",
    "print(final_output)"
   ]
  },
  {
   "cell_type": "code",
   "execution_count": 46,
   "id": "74775559",
   "metadata": {},
   "outputs": [
    {
     "name": "stdout",
     "output_type": "stream",
     "text": [
      "Tuesday\n"
     ]
    }
   ],
   "source": [
    "# find the day of the week \n",
    "date = dt.date.today()\n",
    "print(date.strftime('%A'))"
   ]
  },
  {
   "cell_type": "code",
   "execution_count": 53,
   "id": "430107cb",
   "metadata": {},
   "outputs": [
    {
     "name": "stdout",
     "output_type": "stream",
     "text": [
      "Please do tell me a date (format: ddmmyyyy)01111998\n"
     ]
    },
    {
     "ename": "AttributeError",
     "evalue": "type object 'datetime.date' has no attribute 'strptime'",
     "output_type": "error",
     "traceback": [
      "\u001b[0;31m---------------------------------------------------------------------------\u001b[0m",
      "\u001b[0;31mAttributeError\u001b[0m                            Traceback (most recent call last)",
      "Cell \u001b[0;32mIn[53], line 2\u001b[0m\n\u001b[1;32m      1\u001b[0m inc \u001b[38;5;241m=\u001b[39m \u001b[38;5;28minput\u001b[39m(\u001b[38;5;124m'\u001b[39m\u001b[38;5;124mPlease do tell me a date (format: ddmmyyyy)\u001b[39m\u001b[38;5;124m'\u001b[39m)\n\u001b[0;32m----> 2\u001b[0m date \u001b[38;5;241m=\u001b[39m \u001b[43mdt\u001b[49m\u001b[38;5;241;43m.\u001b[39;49m\u001b[43mdate\u001b[49m\u001b[38;5;241;43m.\u001b[39;49m\u001b[43mstrptime\u001b[49m(inc, \u001b[38;5;124m'\u001b[39m\u001b[38;5;132;01m%d\u001b[39;00m\u001b[38;5;124m, \u001b[39m\u001b[38;5;124m%\u001b[39m\u001b[38;5;124mb, \u001b[39m\u001b[38;5;124m%\u001b[39m\u001b[38;5;124my\u001b[39m\u001b[38;5;124m'\u001b[39m)\n\u001b[1;32m      3\u001b[0m \u001b[38;5;28mprint\u001b[39m(date)\n",
      "\u001b[0;31mAttributeError\u001b[0m: type object 'datetime.date' has no attribute 'strptime'"
     ]
    }
   ],
   "source": [
    "inc = input('Please do tell me a date (format: ddmmyyyy)')\n",
    "date = dt.datetime.strptime(inc, '%d, %b, %y')\n",
    "print(date)"
   ]
  },
  {
   "cell_type": "code",
   "execution_count": null,
   "id": "c1a26acd",
   "metadata": {},
   "outputs": [],
   "source": []
  }
 ],
 "metadata": {
  "kernelspec": {
   "display_name": "Python 3 (ipykernel)",
   "language": "python",
   "name": "python3"
  },
  "language_info": {
   "codemirror_mode": {
    "name": "ipython",
    "version": 3
   },
   "file_extension": ".py",
   "mimetype": "text/x-python",
   "name": "python",
   "nbconvert_exporter": "python",
   "pygments_lexer": "ipython3",
   "version": "3.10.9"
  }
 },
 "nbformat": 4,
 "nbformat_minor": 5
}
