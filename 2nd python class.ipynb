{
 "cells": [
  {
   "cell_type": "code",
   "execution_count": 1,
   "id": "2d57658d",
   "metadata": {},
   "outputs": [
    {
     "name": "stdout",
     "output_type": "stream",
     "text": [
      "enter a:4\n",
      "enter b:5\n",
      "enter c:6\n",
      "the equation has no root\n"
     ]
    }
   ],
   "source": [
    "a = int(input('enter a:'))\n",
    "b = int(input('enter b:'))\n",
    "c = int(input('enter c:'))\n",
    "\n",
    "delta = b**2-4*a*c \n",
    "\n",
    "if delta < 0:\n",
    "    print('the equation has no root')\n",
    "elif delta == 0: \n",
    "    print('the equation has two equal roots x1 and x2 =', -b/2*a)\n",
    "else: \n",
    "    print('x1 = ', (-b -delta**0.5)/(2.0*a))\n",
    "    print('x2 = ', (-b +delta**0.5)/(2.0*a))"
   ]
  },
  {
   "cell_type": "code",
   "execution_count": 4,
   "id": "68ef4147",
   "metadata": {},
   "outputs": [
    {
     "name": "stdout",
     "output_type": "stream",
     "text": [
      "enter a:2\n",
      "enter b:2\n",
      "enter c:4\n",
      "False\n"
     ]
    }
   ],
   "source": [
    "a = int(input('enter a:'))\n",
    "b = int(input('enter b:'))\n",
    "c = int(input('enter c:'))\n",
    "\n",
    "condition = (a**2 + b**2 == c**2)\n",
    "\n",
    "print(bool(condition))"
   ]
  },
  {
   "cell_type": "code",
   "execution_count": 6,
   "id": "ab334b9a",
   "metadata": {},
   "outputs": [],
   "source": [
    "# print list index \n",
    "x = [1, 4, 5, 8, 9, 7]\n",
    "\n",
    "for i in range(len(x)):\n",
    "    print(i)"
   ]
  },
  {
   "cell_type": "code",
   "execution_count": 10,
   "id": "e15d6088",
   "metadata": {},
   "outputs": [
    {
     "name": "stdout",
     "output_type": "stream",
     "text": [
      "enter x:2\n",
      "enter n:2\n",
      "the sum of 2 of terms is equal to : 6\n"
     ]
    }
   ],
   "source": [
    "x = int(input('enter x:'))\n",
    "n = int(input('enter n:'))\n",
    "\n",
    "sum_n = 0\n",
    "for i in range(1, n+1):\n",
    "    sum_n += x**i\n",
    "print(f'the sum of {n} of terms is equal to :', sum_n)"
   ]
  },
  {
   "cell_type": "code",
   "execution_count": 16,
   "id": "d2d67949",
   "metadata": {},
   "outputs": [
    {
     "name": "stdout",
     "output_type": "stream",
     "text": [
      "enter your string: jjuuikkjgfeeaaswqq\n",
      "7\n"
     ]
    }
   ],
   "source": [
    "s = input('enter your string: ')\n",
    "vowels = ('a', 'A', 'e', 'E', 'O', 'o', 'U', 'u', 'I', 'i')\n",
    "count = 0\n",
    "for i in s: \n",
    "    if i in vowels: \n",
    "        count += 1 \n",
    "print(count)"
   ]
  },
  {
   "cell_type": "code",
   "execution_count": 18,
   "id": "045bf716",
   "metadata": {},
   "outputs": [
    {
     "name": "stdout",
     "output_type": "stream",
     "text": [
      "room 011.11\n",
      "room 122.22\n",
      "room 233.33\n"
     ]
    }
   ],
   "source": [
    "# enumerate(prints with index)\n",
    "areas = [11.11, 22.22, 33.33]\n",
    "\n",
    "for index, area in enumerate(areas):\n",
    "    print('room ' + str(index) + str(area))"
   ]
  },
  {
   "cell_type": "code",
   "execution_count": 24,
   "id": "f6f9e4d7",
   "metadata": {},
   "outputs": [
    {
     "name": "stdout",
     "output_type": "stream",
     "text": [
      "this key 1 is hi\n",
      "this key 2 is you\n",
      "this key 3 is beautiful\n",
      "this key 4 is soup\n"
     ]
    }
   ],
   "source": [
    "dictionary = {1: 'hi', 2: 'you', 3: 'beautiful', 4: 'soup'}\n",
    "\n",
    "for key,value in dictionary.items():\n",
    "    print('this key ' + str(key) + ' is ' + value)"
   ]
  },
  {
   "cell_type": "code",
   "execution_count": null,
   "id": "bd686459",
   "metadata": {},
   "outputs": [],
   "source": [
    "# unknown number of iterations \n",
    "while 1: \n",
    "    \n",
    "    #or\n",
    "    \n",
    "while True: "
   ]
  },
  {
   "cell_type": "code",
   "execution_count": 26,
   "id": "0f56214e",
   "metadata": {},
   "outputs": [
    {
     "data": {
      "text/plain": [
       "['C', 'JAVA', 'PYTHON']"
      ]
     },
     "execution_count": 26,
     "metadata": {},
     "output_type": "execute_result"
    }
   ],
   "source": [
    "langs = ['c', 'java', 'python']\n",
    "new_lang = [lang.upper() for lang in langs]\n",
    "new_lang"
   ]
  },
  {
   "cell_type": "code",
   "execution_count": 28,
   "id": "acff025d",
   "metadata": {},
   "outputs": [
    {
     "data": {
      "text/plain": [
       "[1, 4, 6]"
      ]
     },
     "execution_count": 28,
     "metadata": {},
     "output_type": "execute_result"
    }
   ],
   "source": [
    "langs = ['c', 'java', 'python']\n",
    "lens = [len(x) for x in langs]\n",
    "lens"
   ]
  },
  {
   "cell_type": "code",
   "execution_count": 31,
   "id": "01c4a9a3",
   "metadata": {},
   "outputs": [
    {
     "data": {
      "text/plain": [
       "[4]"
      ]
     },
     "execution_count": 31,
     "metadata": {},
     "output_type": "execute_result"
    }
   ],
   "source": [
    "langs = ['c', 'java', 'python']\n",
    "lens = [len(x) for x in langs if len(x) == 4]\n",
    "lens"
   ]
  },
  {
   "cell_type": "code",
   "execution_count": 33,
   "id": "8a811380",
   "metadata": {},
   "outputs": [
    {
     "data": {
      "text/plain": [
       "[0, 6, 12, 18, 24, 30, 36, 42, 48, 54, 60, 66, 72, 78, 84, 90, 96]"
      ]
     },
     "execution_count": 33,
     "metadata": {},
     "output_type": "execute_result"
    }
   ],
   "source": [
    "num_list = [x for x in range(100) if x%2 ==0 if x%3== 0]\n",
    "num_list"
   ]
  },
  {
   "cell_type": "code",
   "execution_count": 35,
   "id": "702a4eb6",
   "metadata": {},
   "outputs": [
    {
     "name": "stdout",
     "output_type": "stream",
     "text": [
      "<list_iterator object at 0x7f9f125042e0>\n",
      "c\n",
      "java\n",
      "python\n"
     ]
    }
   ],
   "source": [
    "langs = ['c', 'java', 'python']\n",
    "iterator_obj = iter(langs)\n",
    "print(iterator_obj)\n",
    "print(next(iterator_obj))\n",
    "print(next(iterator_obj))\n",
    "print(next(iterator_obj))"
   ]
  },
  {
   "cell_type": "code",
   "execution_count": null,
   "id": "f3cda913",
   "metadata": {},
   "outputs": [],
   "source": []
  }
 ],
 "metadata": {
  "kernelspec": {
   "display_name": "Python 3 (ipykernel)",
   "language": "python",
   "name": "python3"
  },
  "language_info": {
   "codemirror_mode": {
    "name": "ipython",
    "version": 3
   },
   "file_extension": ".py",
   "mimetype": "text/x-python",
   "name": "python",
   "nbconvert_exporter": "python",
   "pygments_lexer": "ipython3",
   "version": "3.10.9"
  }
 },
 "nbformat": 4,
 "nbformat_minor": 5
}
