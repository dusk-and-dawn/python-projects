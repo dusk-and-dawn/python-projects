{
 "cells": [
  {
   "cell_type": "markdown",
   "id": "e6fbd331",
   "metadata": {},
   "source": [
    "Goals: \n",
    "gain mathematical insight into the way me and my friends and family communicate with one another via WhatsApp. \n",
    "\n",
    "categories to be analyzed \n",
    "pictures sent \n",
    "videos sent \n",
    "time-messages sent \n",
    "messages sent overall \n",
    "characters sent overall "
   ]
  },
  {
   "cell_type": "code",
   "execution_count": null,
   "id": "b44da840",
   "metadata": {},
   "outputs": [],
   "source": [
    "# 1. step read the file \n"
   ]
  }
 ],
 "metadata": {
  "kernelspec": {
   "display_name": "Python 3 (ipykernel)",
   "language": "python",
   "name": "python3"
  },
  "language_info": {
   "codemirror_mode": {
    "name": "ipython",
    "version": 3
   },
   "file_extension": ".py",
   "mimetype": "text/x-python",
   "name": "python",
   "nbconvert_exporter": "python",
   "pygments_lexer": "ipython3",
   "version": "3.10.9"
  }
 },
 "nbformat": 4,
 "nbformat_minor": 5
}
