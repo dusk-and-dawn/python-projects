{
 "cells": [
  {
   "cell_type": "code",
   "execution_count": 24,
   "id": "5c9225a9",
   "metadata": {},
   "outputs": [
    {
     "name": "stdout",
     "output_type": "stream",
     "text": [
      "How many layers should I produce for the Pascalian triangle?:4\n",
      "     1\n",
      "[1, 2]\n",
      "[1, 2, 2, 4]\n",
      "[1, 2, 2, 4, 2, 4]\n",
      "[1, 2, 2, 4, 2, 4, 3, 6]\n",
      "[1, 2, 2, 4, 2, 4, 3, 6, 3, 6]\n",
      "[1, 2, 2, 4, 2, 4, 3, 6, 3, 6, 3, 6]\n",
      "[1, 2, 2, 4, 2, 4, 3, 6, 3, 6, 3, 6, 4, 8]\n",
      "[1, 2, 2, 4, 2, 4, 3, 6, 3, 6, 3, 6, 4, 8, 4, 8]\n",
      "[1, 2, 2, 4, 2, 4, 3, 6, 3, 6, 3, 6, 4, 8, 4, 8, 4, 8]\n",
      "[1, 2, 2, 4, 2, 4, 3, 6, 3, 6, 3, 6, 4, 8, 4, 8, 4, 8, 4, 8]\n"
     ]
    }
   ],
   "source": [
    "# Take a number and make a pascalian triangle with as many layers as the number \n",
    "# Pascalian triangle definition: \n",
    "'''\n",
    "Pascal's triangle is the triangular array of numbers that begins with 1 on the top and with 1's running down the \n",
    "two sides of a triangle. \n",
    "Each new number lies between two numbers and below them, and its value is the sum of the two numbers above it.\n",
    "'''\n",
    "inc_num = int(input('How many layers should I produce for the Pascalian triangle?:'))\n",
    "bonus_one = 1 \n",
    "layered_list = []\n",
    "print(' '*inc_num, 1)\n",
    "for x in range(0, inc_num+1):\n",
    "    for y in range(0, x):\n",
    "        layered_list.append(x)\n",
    "        z = layered_list[-1]+x\n",
    "        layered_list.append(z)\n",
    "        print(layered_list)\n",
    "    temp_result = x\n",
    "#    if x > 1:\n",
    "#        print(bonus_one, x, bonus_one)"
   ]
  },
  {
   "cell_type": "code",
   "execution_count": 46,
   "id": "1d347121",
   "metadata": {},
   "outputs": [
    {
     "name": "stdout",
     "output_type": "stream",
     "text": [
      "How many layers should I produce for the Pascalian triangle?:4\n",
      "     1\n",
      "[0, 0, 0]\n",
      "[0, 1, 0]\n",
      "[0, 2, 0]\n",
      "[0, 4, 0]\n",
      "[0, 6, 0]\n",
      "[0, 10, 0]\n",
      "[2, 13, 0]\n",
      "[2, 16, 0]\n",
      "[2, 29, 0]\n",
      "[2, 45, 0]\n",
      "[3, 49, 0]\n",
      "[3, 53, 0]\n",
      "[3, 102, 0]\n",
      "[3, 155, 0]\n",
      "[3, 257, 0]\n"
     ]
    }
   ],
   "source": [
    "inc_num = int(input('How many layers should I produce for the Pascalian triangle?:'))\n",
    "bonus_one = 1 \n",
    "layered_list = []\n",
    "final_list = []\n",
    "print(' '*inc_num, 1)\n",
    "for x in range(0, inc_num+1):\n",
    "    layered_list.append(x)\n",
    "    layered_list.append(layered_list[-1])\n",
    "    if x < 1:\n",
    "        layered_list.insert(0, 0)\n",
    "    if x > 1:\n",
    "        layered_list.insert(0, x)\n",
    "    for y in range(-1, x):\n",
    "        z = layered_list[-1]+layered_list[-2]\n",
    "        layered_list.append(z)\n",
    "        final_list = [layered_list[1], z, layered_list[x]]\n",
    "        \n",
    "        print(final_list)"
   ]
  },
  {
   "cell_type": "code",
   "execution_count": 70,
   "id": "5f94b92e",
   "metadata": {},
   "outputs": [
    {
     "name": "stdout",
     "output_type": "stream",
     "text": [
      "How many layers should I produce for the Pascalian triangle?:4\n",
      "[1, 1, -1]\n",
      "[1, -1, 1, 0, 0]\n",
      "[1, 1, 0, 0, 2, 2, 1]\n",
      "[1, 0, 0, 2, 2, 1, 3, 4, 2]\n",
      "[1, 0, 2, 2, 1, 3, 4, 2, 4, 6, 3]\n"
     ]
    }
   ],
   "source": [
    "inc_num = int(input('How many layers should I produce for the Pascalian triangle?:'))\n",
    "bonus_one = 1 \n",
    "layered_list = [1]\n",
    "list_for_stupid_me = []\n",
    "final_list = []\n",
    "for x in range(0, inc_num+1):\n",
    "    layered_list.append(x)\n",
    "    layered_list.append(layered_list[-1]+layered_list[-2])\n",
    "    y = x-1 \n",
    "    layered_list.append(y)\n",
    "    layered_list.pop(x-(x-1))\n",
    "    print(layered_list)\n",
    "    "
   ]
  },
  {
   "cell_type": "code",
   "execution_count": 51,
   "id": "529f8e2f",
   "metadata": {},
   "outputs": [
    {
     "name": "stdout",
     "output_type": "stream",
     "text": [
      "['__add__', '__class__', '__class_getitem__', '__contains__', '__delattr__', '__delitem__', '__dir__', '__doc__', '__eq__', '__format__', '__ge__', '__getattribute__', '__getitem__', '__gt__', '__hash__', '__iadd__', '__imul__', '__init__', '__init_subclass__', '__iter__', '__le__', '__len__', '__lt__', '__mul__', '__ne__', '__new__', '__reduce__', '__reduce_ex__', '__repr__', '__reversed__', '__rmul__', '__setattr__', '__setitem__', '__sizeof__', '__str__', '__subclasshook__', 'append', 'clear', 'copy', 'count', 'extend', 'index', 'insert', 'pop', 'remove', 'reverse', 'sort']\n"
     ]
    }
   ],
   "source": [
    "print(dir(list))"
   ]
  },
  {
   "cell_type": "code",
   "execution_count": 61,
   "id": "bab21580",
   "metadata": {},
   "outputs": [
    {
     "name": "stdout",
     "output_type": "stream",
     "text": [
      "No Python documentation found for '.pop()'.\n",
      "Use help() to get the interactive help utility.\n",
      "Use help(str) for help on the str class.\n",
      "\n"
     ]
    }
   ],
   "source": [
    "help('.pop()')"
   ]
  },
  {
   "cell_type": "code",
   "execution_count": 77,
   "id": "91afaf2d",
   "metadata": {},
   "outputs": [
    {
     "name": "stdout",
     "output_type": "stream",
     "text": [
      "How many layers should I produce for the Pascalian triangle?:12\n",
      "[1]\n",
      "[1, 0]\n",
      "[1, 0, 1]\n",
      "[1, 0, 1, 1]\n"
     ]
    },
    {
     "ename": "IndexError",
     "evalue": "list index out of range",
     "output_type": "error",
     "traceback": [
      "\u001b[0;31m---------------------------------------------------------------------------\u001b[0m",
      "\u001b[0;31mIndexError\u001b[0m                                Traceback (most recent call last)",
      "Cell \u001b[0;32mIn[77], line 7\u001b[0m\n\u001b[1;32m      5\u001b[0m final_list \u001b[38;5;241m=\u001b[39m []\n\u001b[1;32m      6\u001b[0m \u001b[38;5;28;01mfor\u001b[39;00m x \u001b[38;5;129;01min\u001b[39;00m \u001b[38;5;28mrange\u001b[39m(\u001b[38;5;241m0\u001b[39m, inc_num\u001b[38;5;241m-\u001b[39m\u001b[38;5;241m1\u001b[39m):\n\u001b[0;32m----> 7\u001b[0m     list_for_stupid_me\u001b[38;5;241m.\u001b[39mappend(\u001b[43mlayered_list\u001b[49m\u001b[43m[\u001b[49m\u001b[43mx\u001b[49m\u001b[38;5;241;43m-\u001b[39;49m\u001b[38;5;241;43m1\u001b[39;49m\u001b[43m]\u001b[49m\u001b[38;5;241m+\u001b[39mlayered_list[x\u001b[38;5;241m-\u001b[39m\u001b[38;5;241m2\u001b[39m])\n\u001b[1;32m      8\u001b[0m     \u001b[38;5;28mprint\u001b[39m(list_for_stupid_me)\n",
      "\u001b[0;31mIndexError\u001b[0m: list index out of range"
     ]
    }
   ],
   "source": [
    "inc_num = int(input('How many layers should I produce for the Pascalian triangle?:'))\n",
    "bonus_one = 1 \n",
    "initial_list = [0, 1, 0]\n",
    "list_for_stupid_me = []\n",
    "final_list = []\n",
    "for x in range(0, inc_num-1):\n",
    "    first_storage = initial_list[x-x]\n",
    "    list_for_stupid_me.append(layered_list[x-1]+layered_list[x-2])\n",
    "    print(list_for_stupid_me)"
   ]
  },
  {
   "cell_type": "code",
   "execution_count": null,
   "id": "22849428",
   "metadata": {},
   "outputs": [
    {
     "name": "stdout",
     "output_type": "stream",
     "text": [
      "How many layers should I produce for the Pascalian triangle?:4\n"
     ]
    },
    {
     "name": "stderr",
     "output_type": "stream",
     "text": [
      "IOPub data rate exceeded.\n",
      "The notebook server will temporarily stop sending output\n",
      "to the client in order to avoid crashing it.\n",
      "To change this limit, set the config variable\n",
      "`--NotebookApp.iopub_data_rate_limit`.\n",
      "\n",
      "Current values:\n",
      "NotebookApp.iopub_data_rate_limit=1000000.0 (bytes/sec)\n",
      "NotebookApp.rate_limit_window=3.0 (secs)\n",
      "\n"
     ]
    }
   ],
   "source": [
    "inc_num = int(input('How many layers should I produce for the Pascalian triangle?:'))\n",
    "counter = 1 \n",
    "previous_row = [1]\n",
    "final_list = []\n",
    "while counter < inc_num+1:\n",
    "    for y in previous_row: \n",
    "        previous_row.append(1)\n",
    "        print(previous_row)\n",
    "    counter+=1 \n",
    "        "
   ]
  },
  {
   "cell_type": "code",
   "execution_count": 3,
   "id": "42f42a91",
   "metadata": {},
   "outputs": [
    {
     "name": "stdout",
     "output_type": "stream",
     "text": [
      "How many layers should I produce for the Pascalian triangle?:4\n",
      "[0, 1, 0, 1]\n",
      "\n",
      "[0, 1, 0, 1, 1]\n",
      "[0, 1, 0, 1, 1, 1]\n",
      "\n",
      "[0, 1, 0, 1, 1, 1, 1]\n",
      "[0, 1, 0, 1, 1, 1, 1, 1]\n",
      "[0, 1, 0, 1, 1, 1, 1, 1, 1]\n",
      "\n",
      "[0, 1, 0, 1, 1, 1, 1, 1, 1, 1]\n",
      "[0, 1, 0, 1, 1, 1, 1, 1, 1, 1, 1]\n",
      "[0, 1, 0, 1, 1, 1, 1, 1, 1, 1, 1, 1]\n",
      "[0, 1, 0, 1, 1, 1, 1, 1, 1, 1, 1, 1, 1]\n",
      "\n"
     ]
    }
   ],
   "source": [
    "inc_num = int(input('How many layers should I produce for the Pascalian triangle?:'))\n",
    "bonus_one = 1 \n",
    "previous_row = [0, 1, 0]\n",
    "final_list = []\n",
    "for x in range(1, inc_num+1):\n",
    "    for i in range(1, x+1):\n",
    "        previous_row.append(1)\n",
    "        print(previous_row)\n",
    "    print('')"
   ]
  },
  {
   "cell_type": "code",
   "execution_count": 22,
   "id": "1aba793b",
   "metadata": {},
   "outputs": [
    {
     "name": "stdout",
     "output_type": "stream",
     "text": [
      "How many layers should I produce for the Pascalian triangle?:18\n",
      "\n",
      "\n",
      "                 1 \n",
      "\n",
      "                1 1 \n",
      "\n",
      "               1 2 1 \n",
      "\n",
      "              1 3 3 1 \n",
      "\n",
      "             1 4 6 4 1 \n",
      "\n",
      "            1 5 10 10 5 1 \n",
      "\n",
      "           1 6 15 20 15 6 1 \n",
      "\n",
      "          1 7 21 35 35 21 7 1 \n",
      "\n",
      "         1 8 28 56 70 56 28 8 1 \n",
      "\n",
      "        1 9 36 84 126 126 84 36 9 1 \n",
      "\n",
      "       1 10 45 120 210 252 210 120 45 10 1 \n",
      "\n",
      "      1 11 55 165 330 462 462 330 165 55 11 1 \n",
      "\n",
      "     1 12 66 220 495 792 924 792 495 220 66 12 1 \n",
      "\n",
      "    1 13 78 286 715 1287 1716 1716 1287 715 286 78 13 1 \n",
      "\n",
      "   1 14 91 364 1001 2002 3003 3432 3003 2002 1001 364 91 14 1 \n",
      "\n",
      "  1 15 105 455 1365 3003 5005 6435 6435 5005 3003 1365 455 105 15 1 \n",
      "\n",
      " 1 16 120 560 1820 4368 8008 11440 12870 11440 8008 4368 1820 560 120 16 1 \n",
      "\n",
      "1 17 136 680 2380 6188 12376 19448 24310 24310 19448 12376 6188 2380 680 136 17 1 "
     ]
    }
   ],
   "source": [
    "inc_num = int(input('How many layers should I produce for the Pascalian triangle?:'))\n",
    "final_list = []\n",
    "for x in range(inc_num):\n",
    "    placeholder = []\n",
    "    for i in range(x+1):\n",
    "        if i == 0 or i == x: \n",
    "            placeholder.append(1)\n",
    "        else: \n",
    "            placeholder.append(final_list[x-1][i-1] + final_list[x-1][i])\n",
    "    final_list.append(placeholder)\n",
    "counter = 0\n",
    "for entry in final_list: \n",
    "    print()\n",
    "    counter += 1\n",
    "    print((inc_num-counter)*' ', end= '')\n",
    "    for x in entry: \n",
    "        print(str(x), end = ' ')\n",
    "\n"
   ]
  },
  {
   "cell_type": "code",
   "execution_count": 3,
   "id": "3fbc4225",
   "metadata": {},
   "outputs": [
    {
     "name": "stdout",
     "output_type": "stream",
     "text": [
      "3\n"
     ]
    }
   ],
   "source": [
    "previous_row = [0, 1, 0]\n",
    "\n",
    "print(previous_row)"
   ]
  },
  {
   "cell_type": "code",
   "execution_count": null,
   "id": "62ebbf90",
   "metadata": {},
   "outputs": [],
   "source": []
  }
 ],
 "metadata": {
  "kernelspec": {
   "display_name": "Python 3 (ipykernel)",
   "language": "python",
   "name": "python3"
  },
  "language_info": {
   "codemirror_mode": {
    "name": "ipython",
    "version": 3
   },
   "file_extension": ".py",
   "mimetype": "text/x-python",
   "name": "python",
   "nbconvert_exporter": "python",
   "pygments_lexer": "ipython3",
   "version": "3.10.9"
  }
 },
 "nbformat": 4,
 "nbformat_minor": 5
}
