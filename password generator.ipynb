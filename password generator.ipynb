{
 "cells": [
  {
   "cell_type": "code",
   "execution_count": 12,
   "id": "c3e83b61",
   "metadata": {},
   "outputs": [
    {
     "data": {
      "text/plain": [
       "'hfgljfb'"
      ]
     },
     "execution_count": 12,
     "metadata": {},
     "output_type": "execute_result"
    }
   ],
   "source": [
    "# password generator \n",
    "# Take inpout to establish what kind of pw I'm supposed to make \n",
    "\n",
    "import random as rn\n",
    "\n",
    "def password_generator(string, pw_length):\n",
    "    password = []\n",
    "    for x in range(pw_length): \n",
    "        password.append(rn.choice(string))\n",
    "    return ''.join(password)\n",
    "\n",
    "password_generator('@JGhsuakgbalkadjaglkfjhgk////f', 7)"
   ]
  },
  {
   "cell_type": "code",
   "execution_count": 15,
   "id": "c7ca1846",
   "metadata": {},
   "outputs": [
    {
     "name": "stdout",
     "output_type": "stream",
     "text": [
      "Would you like to use letters for your password?no\n",
      "Would you like to employ capitalization in your password?Ja\n",
      "Would you like to have special characters appear in your password?y\n",
      "Would you like to have numbers appear in your password?y\n",
      "If you don't tell me to use letters how am I supposed to do capitalization?\n",
      "+83_4&95%%13615\n"
     ]
    }
   ],
   "source": [
    "# version 2 where you have to just answer some questions \n",
    "\n",
    "def q_a_pw_gen(pw_length=15):\n",
    "    answers = {'y',:True, 'yes':True, 'yeah':True, 'ja':True,'n':False, 'no':False, 'nah':False}\n",
    "    values = {'nums':'123456789', 'letters':'abcdefghijklmnopqrstuvwxyz', 'specials':'!@#$%^&*()_+'}\n",
    "    lets = input('Would you like to use letters for your password?').lower()\n",
    "    capitalization = input('Would you like to employ capitalization in your password?').lower()\n",
    "    special_characters = input('Would you like to have special characters appear in your password?').lower()\n",
    "    numbers = input('Would you like to have numbers appear in your password?').lower()\n",
    "    PW = []\n",
    "    if answers.get(lets) == True:\n",
    "        for x in range(pw_length):\n",
    "            PW.append(rn.choice(values.get('letters')))\n",
    "    else: \n",
    "        for x in range(pw_length):\n",
    "            PW.append(rn.choice(values.get('nums')))\n",
    "    if answers.get(capitalization) == True and answers.get(lets) == True: \n",
    "        for x in PW:\n",
    "            y = rn.randint(1,2)\n",
    "            z = rn.randint(0, pw_length)\n",
    "            if y % 2 == 0:\n",
    "                PW.insert(z, x.upper())\n",
    "                PW.remove(x)\n",
    "    elif answers.get(capitalization) == True and answers.get(lets) == False: \n",
    "        print('If you don\\'t tell me to use letters how am I supposed to do capitalization?')\n",
    "    if answers.get(numbers) == True:\n",
    "        for x in PW: \n",
    "            y = rn.randint(1,2)\n",
    "            z = rn.randint(0, pw_length)\n",
    "            if y % 2 == 0:\n",
    "                PW.insert(z, rn.choice(values.get('nums')))\n",
    "                PW.remove(x)\n",
    "    elif answers.get(lets) == False and answers.get(numbers)== False:\n",
    "        PW.clear()\n",
    "        for x in range(pw_length):\n",
    "            PW.append(rn.choice(values.get('specials')))\n",
    "        return print(''.join(PW))\n",
    "    if answers.get(special_characters) == True:\n",
    "        for x in PW:\n",
    "            y = rn.randint(1,2)\n",
    "            z = rn.randint(0, pw_length)\n",
    "            if y % 2 == 0:\n",
    "                PW.insert(z, rn.choice(values.get('specials')))\n",
    "                PW.remove(x)\n",
    "    print(''.join(PW))\n",
    "q_a_pw_gen()"
   ]
  },
  {
   "cell_type": "code",
   "execution_count": 45,
   "id": "8bfe63dd",
   "metadata": {},
   "outputs": [
    {
     "name": "stdout",
     "output_type": "stream",
     "text": [
      "Would you like to use letters for your password?y\n",
      "Would you like to employ capitalization in your password?y\n",
      "Would you like to have special characters appear in your password?y\n",
      "Would you like to have numbers appear in your password?n\n",
      "(F+hv_hdrR^C&)+rXZZ%\n"
     ]
    }
   ],
   "source": [
    "q_a_pw_gen(20)"
   ]
  },
  {
   "cell_type": "code",
   "execution_count": 6,
   "id": "59344c0b",
   "metadata": {},
   "outputs": [
    {
     "ename": "AttributeError",
     "evalue": "'int' object has no attribute 'isnumeric'",
     "output_type": "error",
     "traceback": [
      "\u001b[0;31m---------------------------------------------------------------------------\u001b[0m",
      "\u001b[0;31mAttributeError\u001b[0m                            Traceback (most recent call last)",
      "Cell \u001b[0;32mIn[6], line 49\u001b[0m\n\u001b[1;32m     47\u001b[0m     \u001b[38;5;28;01melse\u001b[39;00m:\n\u001b[1;32m     48\u001b[0m         \u001b[38;5;28mprint\u001b[39m(\u001b[38;5;124m'\u001b[39m\u001b[38;5;124mplease enter an integer as argument\u001b[39m\u001b[38;5;124m'\u001b[39m)\n\u001b[0;32m---> 49\u001b[0m \u001b[43mq_a_pw_gen\u001b[49m\u001b[43m(\u001b[49m\u001b[38;5;241;43m18\u001b[39;49m\u001b[43m)\u001b[49m\n",
      "Cell \u001b[0;32mIn[6], line 4\u001b[0m, in \u001b[0;36mq_a_pw_gen\u001b[0;34m(pw_length)\u001b[0m\n\u001b[1;32m      3\u001b[0m \u001b[38;5;28;01mdef\u001b[39;00m \u001b[38;5;21mq_a_pw_gen\u001b[39m(pw_length\u001b[38;5;241m=\u001b[39m\u001b[38;5;241m15\u001b[39m):\n\u001b[0;32m----> 4\u001b[0m     \u001b[38;5;28;01mif\u001b[39;00m \u001b[43mpw_length\u001b[49m\u001b[38;5;241;43m.\u001b[39;49m\u001b[43misnumeric\u001b[49m() \u001b[38;5;241m==\u001b[39m \u001b[38;5;28;01mTrue\u001b[39;00m:\n\u001b[1;32m      5\u001b[0m         answers \u001b[38;5;241m=\u001b[39m {\u001b[38;5;124m'\u001b[39m\u001b[38;5;124my\u001b[39m\u001b[38;5;124m'\u001b[39m:\u001b[38;5;28;01mTrue\u001b[39;00m, \u001b[38;5;124m'\u001b[39m\u001b[38;5;124myes\u001b[39m\u001b[38;5;124m'\u001b[39m:\u001b[38;5;28;01mTrue\u001b[39;00m, \u001b[38;5;124m'\u001b[39m\u001b[38;5;124myeah\u001b[39m\u001b[38;5;124m'\u001b[39m:\u001b[38;5;28;01mTrue\u001b[39;00m, \u001b[38;5;124m'\u001b[39m\u001b[38;5;124mn\u001b[39m\u001b[38;5;124m'\u001b[39m:\u001b[38;5;28;01mFalse\u001b[39;00m, \u001b[38;5;124m'\u001b[39m\u001b[38;5;124mno\u001b[39m\u001b[38;5;124m'\u001b[39m:\u001b[38;5;28;01mFalse\u001b[39;00m, \u001b[38;5;124m'\u001b[39m\u001b[38;5;124mnah\u001b[39m\u001b[38;5;124m'\u001b[39m:\u001b[38;5;28;01mFalse\u001b[39;00m}\n\u001b[1;32m      6\u001b[0m         values \u001b[38;5;241m=\u001b[39m {\u001b[38;5;124m'\u001b[39m\u001b[38;5;124mnums\u001b[39m\u001b[38;5;124m'\u001b[39m:\u001b[38;5;124m'\u001b[39m\u001b[38;5;124m123456789\u001b[39m\u001b[38;5;124m'\u001b[39m, \u001b[38;5;124m'\u001b[39m\u001b[38;5;124mletters\u001b[39m\u001b[38;5;124m'\u001b[39m:\u001b[38;5;124m'\u001b[39m\u001b[38;5;124mabcdefghijklmnopqrstuvwxyz\u001b[39m\u001b[38;5;124m'\u001b[39m, \u001b[38;5;124m'\u001b[39m\u001b[38;5;124mspecials\u001b[39m\u001b[38;5;124m'\u001b[39m:\u001b[38;5;124m'\u001b[39m\u001b[38;5;124m!@#$\u001b[39m\u001b[38;5;124m%\u001b[39m\u001b[38;5;124m^&*()_+\u001b[39m\u001b[38;5;124m'\u001b[39m}\n",
      "\u001b[0;31mAttributeError\u001b[0m: 'int' object has no attribute 'isnumeric'"
     ]
    }
   ],
   "source": [
    "# version 2 where you have to just answer some questions \n",
    "\n",
    "def q_a_pw_gen(pw_length=15):\n",
    "    if pw_length.isnumeric() == True:\n",
    "        answers = {'y':True, 'yes':True, 'yeah':True, 'n':False, 'no':False, 'nah':False}\n",
    "        values = {'nums':'123456789', 'letters':'abcdefghijklmnopqrstuvwxyz', 'specials':'!@#$%^&*()_+'}\n",
    "        lets = input('Would you like to use letters for your password?').lower()\n",
    "        capitalization = input('Would you like to employ capitalization in your password?').lower()\n",
    "        special_characters = input('Would you like to have special characters appear in your password?').lower()\n",
    "        numbers = input('Would you like to have numbers appear in your password?').lower()\n",
    "        PW = []\n",
    "        if answers.get(lets) == True:\n",
    "            for x in range(pw_length):\n",
    "                PW.append(rn.choice(values.get('letters')))\n",
    "        else: \n",
    "            for x in range(pw_length):\n",
    "                PW.append(rn.choice(values.get('nums')))\n",
    "        if answers.get(capitalization) == True and answers.get(lets) == True: \n",
    "            for x in PW:\n",
    "                y = rn.randint(1,2)\n",
    "                z = rn.randint(0, pw_length)\n",
    "                if y % 2 == 0:\n",
    "                    PW.insert(z, x.upper())\n",
    "                    PW.remove(x)\n",
    "        elif answers.get(capitalization) == True and answers.get(lets) == False: \n",
    "            print('If you don\\'t tell me to use letters how am I supposed to do capitalization?')\n",
    "        if answers.get(numbers) == True:\n",
    "            for x in PW: \n",
    "                y = rn.randint(1,2)\n",
    "                z = rn.randint(0, pw_length)\n",
    "                if y % 2 == 0:\n",
    "                    PW.insert(z, rn.choice(values.get('nums')))\n",
    "                    PW.remove(x)\n",
    "        elif answers.get(lets) == False and answers.get(numbers)== False:\n",
    "            PW.clear()\n",
    "            for x in range(pw_length):\n",
    "                PW.append(rn.choice(values.get('specials')))\n",
    "            return print(''.join(PW))\n",
    "        if answers.get(special_characters) == True:\n",
    "            for x in PW:\n",
    "                y = rn.randint(1,2)\n",
    "                z = rn.randint(0, pw_length)\n",
    "                if y % 2 == 0:\n",
    "                    PW.insert(z, rn.choice(values.get('specials')))\n",
    "                    PW.remove(x)\n",
    "        print(''.join(PW))\n",
    "    else:\n",
    "        print('please enter an integer as argument')\n",
    "q_a_pw_gen(18)"
   ]
  },
  {
   "cell_type": "code",
   "execution_count": 5,
   "id": "3b702aba",
   "metadata": {},
   "outputs": [
    {
     "ename": "AttributeError",
     "evalue": "'int' object has no attribute 'isnumeric'",
     "output_type": "error",
     "traceback": [
      "\u001b[0;31m---------------------------------------------------------------------------\u001b[0m",
      "\u001b[0;31mAttributeError\u001b[0m                            Traceback (most recent call last)",
      "Cell \u001b[0;32mIn[5], line 1\u001b[0m\n\u001b[0;32m----> 1\u001b[0m \u001b[43mq_a_pw_gen\u001b[49m\u001b[43m(\u001b[49m\u001b[38;5;241;43m89\u001b[39;49m\u001b[43m)\u001b[49m\n",
      "Cell \u001b[0;32mIn[3], line 4\u001b[0m, in \u001b[0;36mq_a_pw_gen\u001b[0;34m(pw_length)\u001b[0m\n\u001b[1;32m      3\u001b[0m \u001b[38;5;28;01mdef\u001b[39;00m \u001b[38;5;21mq_a_pw_gen\u001b[39m(pw_length\u001b[38;5;241m=\u001b[39m\u001b[38;5;241m15\u001b[39m):\n\u001b[0;32m----> 4\u001b[0m     \u001b[38;5;28;01mif\u001b[39;00m \u001b[43mpw_length\u001b[49m\u001b[38;5;241;43m.\u001b[39;49m\u001b[43misnumeric\u001b[49m() \u001b[38;5;241m==\u001b[39m \u001b[38;5;28;01mTrue\u001b[39;00m:\n\u001b[1;32m      5\u001b[0m         answers \u001b[38;5;241m=\u001b[39m {\u001b[38;5;124m'\u001b[39m\u001b[38;5;124my\u001b[39m\u001b[38;5;124m'\u001b[39m:\u001b[38;5;28;01mTrue\u001b[39;00m, \u001b[38;5;124m'\u001b[39m\u001b[38;5;124myes\u001b[39m\u001b[38;5;124m'\u001b[39m:\u001b[38;5;28;01mTrue\u001b[39;00m, \u001b[38;5;124m'\u001b[39m\u001b[38;5;124myeah\u001b[39m\u001b[38;5;124m'\u001b[39m:\u001b[38;5;28;01mTrue\u001b[39;00m, \u001b[38;5;124m'\u001b[39m\u001b[38;5;124mn\u001b[39m\u001b[38;5;124m'\u001b[39m:\u001b[38;5;28;01mFalse\u001b[39;00m, \u001b[38;5;124m'\u001b[39m\u001b[38;5;124mno\u001b[39m\u001b[38;5;124m'\u001b[39m:\u001b[38;5;28;01mFalse\u001b[39;00m, \u001b[38;5;124m'\u001b[39m\u001b[38;5;124mnah\u001b[39m\u001b[38;5;124m'\u001b[39m:\u001b[38;5;28;01mFalse\u001b[39;00m}\n\u001b[1;32m      6\u001b[0m         values \u001b[38;5;241m=\u001b[39m {\u001b[38;5;124m'\u001b[39m\u001b[38;5;124mnums\u001b[39m\u001b[38;5;124m'\u001b[39m:\u001b[38;5;124m'\u001b[39m\u001b[38;5;124m123456789\u001b[39m\u001b[38;5;124m'\u001b[39m, \u001b[38;5;124m'\u001b[39m\u001b[38;5;124mletters\u001b[39m\u001b[38;5;124m'\u001b[39m:\u001b[38;5;124m'\u001b[39m\u001b[38;5;124mabcdefghijklmnopqrstuvwxyz\u001b[39m\u001b[38;5;124m'\u001b[39m, \u001b[38;5;124m'\u001b[39m\u001b[38;5;124mspecials\u001b[39m\u001b[38;5;124m'\u001b[39m:\u001b[38;5;124m'\u001b[39m\u001b[38;5;124m!@#$\u001b[39m\u001b[38;5;124m%\u001b[39m\u001b[38;5;124m^&*()_+\u001b[39m\u001b[38;5;124m'\u001b[39m}\n",
      "\u001b[0;31mAttributeError\u001b[0m: 'int' object has no attribute 'isnumeric'"
     ]
    }
   ],
   "source": [
    "q_a_pw_gen(89)"
   ]
  },
  {
   "cell_type": "code",
   "execution_count": null,
   "id": "c270ff97",
   "metadata": {},
   "outputs": [],
   "source": [
    "def q_a_pw_gen(pw_length=15):\n",
    "    answers = {'y',:True, 'yes':True, 'yeah':True, 'ja':True,'n':False, 'no':False, 'nah':False}\n",
    "    values = {'nums':'123456789', 'letters':'abcdefghijklmnopqrstuvwxyz', 'specials':'!@#$%^&*()_+'}\n",
    "    lets = input('Would you like to use letters for your password?').lower()\n",
    "    capitalization = input('Would you like to employ capitalization in your password?').lower()\n",
    "    special_characters = input('Would you like to have special characters appear in your password?').lower()\n",
    "    numbers = input('Would you like to have numbers appear in your password?').lower()\n",
    "    PW = []\n",
    "    if answers.get(lets) == True:\n",
    "        for x in range(pw_length):\n",
    "            PW.append(rn.choice(values.get('letters')))\n",
    "    else: \n",
    "        for x in range(pw_length):\n",
    "            PW.append(rn.choice(values.get('nums')))\n",
    "    if answers.get(capitalization) == True and answers.get(lets) == True: \n",
    "        for x in PW:\n",
    "            y = rn.randint(1,2)\n",
    "            z = rn.randint(0, pw_length)\n",
    "            if y % 2 == 0:\n",
    "                PW.insert(z, x.upper())\n",
    "                PW.remove(x)\n",
    "    elif answers.get(capitalization) == True and answers.get(lets) == False: \n",
    "        print('If you don\\'t tell me to use letters how am I supposed to do capitalization?')\n",
    "    if answers.get(numbers) == True:\n",
    "        for x in PW: \n",
    "            y = rn.randint(1,2)\n",
    "            z = rn.randint(0, pw_length)\n",
    "            if y % 2 == 0:\n",
    "                PW.insert(z, rn.choice(values.get('nums')))\n",
    "                PW.remove(x)\n",
    "    elif answers.get(lets) == False and answers.get(numbers)== False:\n",
    "        PW.clear()\n",
    "        for x in range(pw_length):\n",
    "            PW.append(rn.choice(values.get('specials')))\n",
    "        return print(''.join(PW))\n",
    "    if answers.get(special_characters) == True:\n",
    "        for x in PW:\n",
    "            y = rn.randint(1,2)\n",
    "            z = rn.randint(0, pw_length)\n",
    "            if y % 2 == 0:\n",
    "                PW.insert(z, rn.choice(values.get('specials')))\n",
    "                PW.remove(x)\n",
    "    print(''.join(PW))\n",
    "q_a_pw_gen()"
   ]
  }
 ],
 "metadata": {
  "kernelspec": {
   "display_name": "Python 3 (ipykernel)",
   "language": "python",
   "name": "python3"
  },
  "language_info": {
   "codemirror_mode": {
    "name": "ipython",
    "version": 3
   },
   "file_extension": ".py",
   "mimetype": "text/x-python",
   "name": "python",
   "nbconvert_exporter": "python",
   "pygments_lexer": "ipython3",
   "version": "3.10.9"
  }
 },
 "nbformat": 4,
 "nbformat_minor": 5
}
